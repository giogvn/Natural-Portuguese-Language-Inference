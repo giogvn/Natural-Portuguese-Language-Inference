{
 "cells": [
  {
   "cell_type": "code",
   "execution_count": null,
   "metadata": {},
   "outputs": [],
   "source": [
    "from huggingface_hub import HfApi, DatasetFilter"
   ]
  },
  {
   "attachments": {},
   "cell_type": "markdown",
   "metadata": {},
   "source": []
  },
  {
   "attachments": {},
   "cell_type": "markdown",
   "metadata": {},
   "source": [
    "## Goals\n",
    "\n",
    "### #1 Finding Natural Language Inference (NLI) datasets in Portuguese <br>\n",
    "\n",
    "To accomplish such goal, I'll be using two methods from the HFApi class that makes it possible to search for datasets based on some DatasetFilters Objects. These filters allow you to search based on some criteria of which I will use the following:\n",
    "- *benchmark*: NLI famous datasets\n",
    "- *dataset_name*: possible names for NLI datasets\n",
    "- *language*: a critical search criteria that will be used to filer only datasets written in the Portuguese Language\n",
    "- *task_categories*: another critical search criteria that will be used to filter only datasets related to the NLP tasks\n",
    "- *task_id*: another critical search criteria that will be used to filter only datasets related to the NLP tasks**"
   ]
  },
  {
   "cell_type": "code",
   "execution_count": 16,
   "metadata": {},
   "outputs": [
    {
     "name": "stderr",
     "output_type": "stream",
     "text": [
      "c:\\Users\\Giovani Andrade\\Documents\\usp\\Natural-Portuguese-Language-Inference\\loc_env\\Lib\\site-packages\\huggingface_hub\\utils\\_deprecation.py:229: FutureWarning: 'list_datasets' currently returns a list of objects but is planned to be a generator starting from version 0.14 in order to implement pagination. Please avoid to use `list_datasets(...).__len__` or explicitly convert the output to a list first with `list(iter(list_datasets)(...))`.\n",
      "  warnings.warn(self._deprecation_msg.format(attr_name=attr_name), FutureWarning)\n"
     ]
    },
    {
     "data": {
      "text/plain": [
       "[]"
      ]
     },
     "execution_count": 16,
     "metadata": {},
     "output_type": "execute_result"
    }
   ],
   "source": [
    "api = HfApi()\n",
    "token = '*'\n",
    "benchmarks = ['sick']\n",
    "filter = DatasetFilter(benchmark=benchmarks)\n",
    "api.list_datasets(filter=filter, token = token)"
   ]
  }
 ],
 "metadata": {
  "kernelspec": {
   "display_name": "loc_env",
   "language": "python",
   "name": "python3"
  },
  "language_info": {
   "codemirror_mode": {
    "name": "ipython",
    "version": 3
   },
   "file_extension": ".py",
   "mimetype": "text/x-python",
   "name": "python",
   "nbconvert_exporter": "python",
   "pygments_lexer": "ipython3",
   "version": "3.11.2"
  },
  "orig_nbformat": 4
 },
 "nbformat": 4,
 "nbformat_minor": 2
}
