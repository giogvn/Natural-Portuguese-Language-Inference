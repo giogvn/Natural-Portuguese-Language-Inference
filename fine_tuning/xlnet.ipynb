{
 "cells": [
  {
   "cell_type": "code",
   "execution_count": null,
   "metadata": {},
   "outputs": [],
   "source": [
    "from datasets import load_dataset_builder, get_dataset_split_names, get_dataset_config_names, load_dataset\n",
    "from transformers import TrainingArguments, XLMRobertaForSequenceClassification, Trainer\n",
    "from util import *\n",
    "import json, pprint\n",
    "import pandas as pd\n",
    "\n",
    "pp = pprint.PrettyPrinter(indent = 4)"
   ]
  },
  {
   "cell_type": "code",
   "execution_count": null,
   "metadata": {},
   "outputs": [],
   "source": [
    "model_name = 'xlm-roberta-base'\n",
    "model = XLMRobertaForSequenceClassification.from_pretrained(model_name, num_labels=3)\n",
    "\n",
    "dataset_name = 'assin'\n",
    "configs = get_dataset_config_names(dataset_name)\n",
    "splits = get_dataset_splits_and_configs(dataset_name, configs)\n",
    "\n",
    "pp.pprint(f'{dataset_name}\\'s configs: {configs}')\n",
    "pp.pprint(f'{dataset_name}\\'s splits: {splits}')"
   ]
  },
  {
   "attachments": {},
   "cell_type": "markdown",
   "metadata": {},
   "source": [
    "# 1. Training in different Configurations\n",
    "Above , we see Assin is splitted in *train, test and validation* sets for  every configuration. We will perform the training on every configuration:\n",
    "- pt-br;\n",
    "- pt-pt;\n",
    "- full.\n",
    "\n",
    "Therefore, we'll train three models and compare their results."
   ]
  },
  {
   "attachments": {},
   "cell_type": "markdown",
   "metadata": {},
   "source": [
    "## 1.1 pt-br"
   ]
  },
  {
   "cell_type": "code",
   "execution_count": null,
   "metadata": {},
   "outputs": [],
   "source": [
    "config = 'ptbr'\n",
    "\n",
    "pt_br_train = load_dataset(dataset_name, config, split = 'train')\n",
    "pt_br_train = pt_br_train.rename_column('entailment_judgment', 'label')\n",
    "tokenized_train = pt_br_train.map(xlmR_tokenizer, batched=True)\n",
    "\n",
    "pt_br_test = load_dataset(dataset_name, config, split = 'test')\n",
    "pt_br_test = pt_br_test.rename_column('entailment_judgment', 'label')\n",
    "tokenized_test = pt_br_test.map(xlmR_tokenizer, batched=True)"
   ]
  },
  {
   "cell_type": "code",
   "execution_count": null,
   "metadata": {},
   "outputs": [],
   "source": [
    "training_args = TrainingArguments(output_dir=\"test_trainer\", evaluation_strategy=\"epoch\")\n",
    "\n",
    "trainer = Trainer(\n",
    "    model=model,\n",
    "    args=training_args,\n",
    "    train_dataset=tokenized_train,\n",
    "    eval_dataset=tokenized_test,\n",
    "    compute_metrics=compute_metrics,\n",
    ")\n",
    "\n",
    "trainer.train()\n"
   ]
  }
 ],
 "metadata": {
  "kernelspec": {
   "display_name": ".pyenv",
   "language": "python",
   "name": "python3"
  },
  "language_info": {
   "codemirror_mode": {
    "name": "ipython",
    "version": 3
   },
   "file_extension": ".py",
   "mimetype": "text/x-python",
   "name": "python",
   "nbconvert_exporter": "python",
   "pygments_lexer": "ipython3",
   "version": "3.10.6"
  },
  "orig_nbformat": 4
 },
 "nbformat": 4,
 "nbformat_minor": 2
}
